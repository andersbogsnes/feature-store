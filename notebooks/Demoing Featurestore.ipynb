{
 "cells": [
  {
   "cell_type": "code",
   "execution_count": 2,
   "id": "5ff70b38-8773-46f7-8a25-af8e20cb68e7",
   "metadata": {
    "tags": []
   },
   "outputs": [],
   "source": [
    "import polars as pl\n",
    "from feature_store import Client\n",
    "from feature_store.feature import FeatureKind\n",
    "import sqlalchemy as sa"
   ]
  },
  {
   "cell_type": "code",
   "execution_count": null,
   "id": "a1422bb0",
   "metadata": {
    "collapsed": false,
    "jupyter": {
     "outputs_hidden": false
    }
   },
   "outputs": [],
   "source": [
    "# Data found here: https://www.kaggle.com/datasets/kapturovalexander/karpovs-sql-simulator"
   ]
  },
  {
   "cell_type": "code",
   "execution_count": 16,
   "id": "f601f7ab-fd65-4b16-92fc-957729f39a3a",
   "metadata": {
    "tags": []
   },
   "outputs": [],
   "source": [
    "listings = pl.read_csv(\"denmark_hovedstaden_copenhagen_2022-09-24_visualisations_listings.csv\").with_columns(pl.lit('2022-09-24').str.strptime(pl.Date, '%Y-%m-%d').alias('date'))"
   ]
  },
  {
   "cell_type": "code",
   "execution_count": 17,
   "id": "34242c5f-56a8-47bb-aefe-849d43e996aa",
   "metadata": {
    "tags": []
   },
   "outputs": [
    {
     "data": {
      "text/html": [
       "<div><style>\n",
       ".dataframe > thead > tr > th,\n",
       ".dataframe > tbody > tr > td {\n",
       "  text-align: right;\n",
       "}\n",
       "</style>\n",
       "<small>shape: (13815, 19)</small><table border=\"1\" class=\"dataframe\"><thead><tr><th>id</th><th>name</th><th>host_id</th><th>host_name</th><th>neighbourhood_group</th><th>neighbourhood</th><th>latitude</th><th>longitude</th><th>room_type</th><th>price</th><th>minimum_nights</th><th>number_of_reviews</th><th>last_review</th><th>reviews_per_month</th><th>calculated_host_listings_count</th><th>availability_365</th><th>number_of_reviews_ltm</th><th>license</th><th>date</th></tr><tr><td>i64</td><td>str</td><td>i64</td><td>str</td><td>str</td><td>str</td><td>f64</td><td>f64</td><td>str</td><td>i64</td><td>i64</td><td>i64</td><td>str</td><td>f64</td><td>i64</td><td>i64</td><td>i64</td><td>str</td><td>date</td></tr></thead><tbody><tr><td>6983</td><td>&quot;Copenhagen &#x27;N ...</td><td>16774</td><td>&quot;Simon&quot;</td><td>null</td><td>&quot;Nrrebro&quot;</td><td>55.68641</td><td>12.54741</td><td>&quot;Entire home/ap...</td><td>898</td><td>3</td><td>172</td><td>&quot;2022-06-21&quot;</td><td>1.08</td><td>1</td><td>0</td><td>4</td><td>null</td><td>2022-09-24</td></tr><tr><td>26057</td><td>&quot;Lovely house -...</td><td>109777</td><td>&quot;Kari&quot;</td><td>null</td><td>&quot;Indre By&quot;</td><td>55.69307</td><td>12.57649</td><td>&quot;Entire home/ap...</td><td>2600</td><td>4</td><td>59</td><td>&quot;2022-08-09&quot;</td><td>0.55</td><td>1</td><td>303</td><td>8</td><td>null</td><td>2022-09-24</td></tr><tr><td>26473</td><td>&quot;City Centre To...</td><td>112210</td><td>&quot;Julia&quot;</td><td>null</td><td>&quot;Indre By&quot;</td><td>55.67602</td><td>12.5754</td><td>&quot;Entire home/ap...</td><td>3250</td><td>3</td><td>300</td><td>&quot;2022-09-10&quot;</td><td>2.06</td><td>3</td><td>56</td><td>7</td><td>null</td><td>2022-09-24</td></tr><tr><td>29118</td><td>&quot;Best Location ...</td><td>125230</td><td>&quot;Nana&quot;</td><td>null</td><td>&quot;Vesterbro-Kong...</td><td>55.67023</td><td>12.55504</td><td>&quot;Entire home/ap...</td><td>725</td><td>7</td><td>24</td><td>&quot;2022-08-04&quot;</td><td>0.16</td><td>1</td><td>59</td><td>2</td><td>null</td><td>2022-09-24</td></tr><tr><td>31094</td><td>&quot;Beautiful, spa...</td><td>129976</td><td>&quot;Ebbe&quot;</td><td>null</td><td>&quot;Vesterbro-Kong...</td><td>55.666602</td><td>12.555283</td><td>&quot;Entire home/ap...</td><td>1954</td><td>3</td><td>19</td><td>&quot;2022-08-22&quot;</td><td>0.13</td><td>1</td><td>0</td><td>2</td><td>null</td><td>2022-09-24</td></tr><tr><td>32379</td><td>&quot;165 m2  artist...</td><td>140105</td><td>&quot;Lise&quot;</td><td>null</td><td>&quot;Vesterbro-Kong...</td><td>55.672638</td><td>12.552493</td><td>&quot;Entire home/ap...</td><td>1280</td><td>3</td><td>80</td><td>&quot;2022-08-13&quot;</td><td>0.54</td><td>2</td><td>60</td><td>5</td><td>null</td><td>2022-09-24</td></tr><tr><td>32841</td><td>&quot;Cozy flat for ...</td><td>142143</td><td>&quot;Anders &amp; Maria...</td><td>null</td><td>&quot;sterbro&quot;</td><td>55.71176</td><td>12.57091</td><td>&quot;Entire home/ap...</td><td>617</td><td>100</td><td>7</td><td>&quot;2016-09-15&quot;</td><td>0.05</td><td>1</td><td>281</td><td>0</td><td>null</td><td>2022-09-24</td></tr><tr><td>33680</td><td>&quot;Best location ...</td><td>145671</td><td>&quot;Mette&quot;</td><td>null</td><td>&quot;Vesterbro-Kong...</td><td>55.66631</td><td>12.54555</td><td>&quot;Entire home/ap...</td><td>1000</td><td>6</td><td>71</td><td>&quot;2019-03-14&quot;</td><td>0.48</td><td>1</td><td>312</td><td>0</td><td>null</td><td>2022-09-24</td></tr><tr><td>37159</td><td>&quot;Unique space o...</td><td>160390</td><td>&quot;Jeanette&quot;</td><td>null</td><td>&quot;Indre By&quot;</td><td>55.68547</td><td>12.56543</td><td>&quot;Entire home/ap...</td><td>2916</td><td>5</td><td>11</td><td>&quot;2017-08-22&quot;</td><td>0.07</td><td>1</td><td>0</td><td>0</td><td>null</td><td>2022-09-24</td></tr><tr><td>38499</td><td>&quot;0 min. from ev...</td><td>122489</td><td>&quot;Christina&quot;</td><td>null</td><td>&quot;Indre By&quot;</td><td>55.684288</td><td>12.573019</td><td>&quot;Entire home/ap...</td><td>1900</td><td>14</td><td>15</td><td>&quot;2022-09-17&quot;</td><td>0.1</td><td>1</td><td>87</td><td>6</td><td>null</td><td>2022-09-24</td></tr><tr><td>39055</td><td>&quot;Stylish Flat i...</td><td>167511</td><td>&quot;Rikke&quot;</td><td>null</td><td>&quot;Amager Vest&quot;</td><td>55.66507</td><td>12.58315</td><td>&quot;Entire home/ap...</td><td>2000</td><td>2</td><td>94</td><td>&quot;2022-09-04&quot;</td><td>0.64</td><td>1</td><td>262</td><td>17</td><td>null</td><td>2022-09-24</td></tr><tr><td>55465</td><td>&quot;Cosy and Centr...</td><td>261977</td><td>&quot;Morten&quot;</td><td>null</td><td>&quot;Frederiksberg&quot;</td><td>55.68127</td><td>12.55389</td><td>&quot;Entire home/ap...</td><td>535</td><td>35</td><td>79</td><td>&quot;2022-08-28&quot;</td><td>0.55</td><td>1</td><td>127</td><td>4</td><td>null</td><td>2022-09-24</td></tr><tr><td>...</td><td>...</td><td>...</td><td>...</td><td>...</td><td>...</td><td>...</td><td>...</td><td>...</td><td>...</td><td>...</td><td>...</td><td>...</td><td>...</td><td>...</td><td>...</td><td>...</td><td>...</td><td>...</td></tr><tr><td>622488449947902662</td><td>&quot;Dejlig 2-værel...</td><td>458104280</td><td>&quot;Flemming&quot;</td><td>null</td><td>&quot;Valby&quot;</td><td>55.656624</td><td>12.473403</td><td>&quot;Entire home/ap...</td><td>600</td><td>1</td><td>14</td><td>&quot;2022-08-12&quot;</td><td>3.41</td><td>1</td><td>0</td><td>14</td><td>null</td><td>2022-09-24</td></tr><tr><td>636945618508851756</td><td>&quot;Skøn lys lejli...</td><td>323066537</td><td>&quot;Rakul&quot;</td><td>null</td><td>&quot;Amager st&quot;</td><td>55.63594</td><td>12.64399</td><td>&quot;Entire home/ap...</td><td>650</td><td>2</td><td>8</td><td>&quot;2022-08-20&quot;</td><td>2.29</td><td>1</td><td>0</td><td>8</td><td>null</td><td>2022-09-24</td></tr><tr><td>638839422729041798</td><td>&quot;T31B, 1. A 1 b...</td><td>424093643</td><td>&quot;Seneca&quot;</td><td>null</td><td>&quot;Vanlse&quot;</td><td>55.67286</td><td>12.4561</td><td>&quot;Entire home/ap...</td><td>490</td><td>4</td><td>6</td><td>&quot;2022-08-21&quot;</td><td>2.17</td><td>26</td><td>0</td><td>6</td><td>null</td><td>2022-09-24</td></tr><tr><td>630779770351807878</td><td>&quot;Skøn lejlighed...</td><td>60240725</td><td>&quot;Henrik&quot;</td><td>null</td><td>&quot;Valby&quot;</td><td>55.6387</td><td>12.49824</td><td>&quot;Entire home/ap...</td><td>1000</td><td>6</td><td>0</td><td>null</td><td>null</td><td>1</td><td>0</td><td>0</td><td>null</td><td>2022-09-24</td></tr><tr><td>632474141549608786</td><td>&quot;3 Room apartme...</td><td>76731355</td><td>&quot;Jørgen&quot;</td><td>null</td><td>&quot;Amager st&quot;</td><td>55.6309</td><td>12.64248</td><td>&quot;Entire home/ap...</td><td>845</td><td>1</td><td>8</td><td>&quot;2022-09-11&quot;</td><td>2.11</td><td>1</td><td>0</td><td>8</td><td>null</td><td>2022-09-24</td></tr><tr><td>646726550705810749</td><td>&quot;Ny rummelig le...</td><td>54229471</td><td>&quot;Morten&quot;</td><td>null</td><td>&quot;Brnshj-Husum&quot;</td><td>55.739028</td><td>12.487433</td><td>&quot;Entire home/ap...</td><td>856</td><td>6</td><td>4</td><td>&quot;2022-08-28&quot;</td><td>1.85</td><td>1</td><td>0</td><td>4</td><td>null</td><td>2022-09-24</td></tr><tr><td>646941499450912133</td><td>&quot;Big beautiful ...</td><td>141288846</td><td>&quot;Tanja&quot;</td><td>null</td><td>&quot;Bispebjerg&quot;</td><td>55.730481</td><td>12.521243</td><td>&quot;Entire home/ap...</td><td>1050</td><td>2</td><td>4</td><td>&quot;2022-09-04&quot;</td><td>1.64</td><td>2</td><td>0</td><td>4</td><td>null</td><td>2022-09-24</td></tr><tr><td>653494030951422457</td><td>&quot;Top-floor Vill...</td><td>465189427</td><td>&quot;Martine&quot;</td><td>null</td><td>&quot;sterbro&quot;</td><td>55.73284</td><td>12.57237</td><td>&quot;Entire home/ap...</td><td>1250</td><td>14</td><td>0</td><td>null</td><td>null</td><td>1</td><td>0</td><td>0</td><td>null</td><td>2022-09-24</td></tr><tr><td>647809303952891559</td><td>&quot;Dejligt lille ...</td><td>4862421</td><td>&quot;Kathrine&quot;</td><td>null</td><td>&quot;Valby&quot;</td><td>55.667782</td><td>12.463285</td><td>&quot;Entire home/ap...</td><td>450</td><td>3</td><td>3</td><td>&quot;2022-07-21&quot;</td><td>1.01</td><td>1</td><td>0</td><td>3</td><td>null</td><td>2022-09-24</td></tr><tr><td>650819220455514228</td><td>&quot;Lejlighed i St...</td><td>134647873</td><td>&quot;Tim&quot;</td><td>null</td><td>&quot;Valby&quot;</td><td>55.659536</td><td>12.474726</td><td>&quot;Entire home/ap...</td><td>400</td><td>1</td><td>3</td><td>&quot;2022-08-14&quot;</td><td>1.27</td><td>1</td><td>0</td><td>3</td><td>null</td><td>2022-09-24</td></tr><tr><td>658612163688161695</td><td>&quot;Cosy apartment...</td><td>256903668</td><td>&quot;Sam&quot;</td><td>null</td><td>&quot;Brnshj-Husum&quot;</td><td>55.730971</td><td>12.487993</td><td>&quot;Entire home/ap...</td><td>850</td><td>1</td><td>0</td><td>null</td><td>null</td><td>1</td><td>0</td><td>0</td><td>null</td><td>2022-09-24</td></tr><tr><td>648436253362373119</td><td>&quot;Big Bedroom co...</td><td>141288846</td><td>&quot;Tanja&quot;</td><td>null</td><td>&quot;Bispebjerg&quot;</td><td>55.73142</td><td>12.52177</td><td>&quot;Private room&quot;</td><td>420</td><td>2</td><td>1</td><td>&quot;2022-07-07&quot;</td><td>0.37</td><td>2</td><td>0</td><td>1</td><td>null</td><td>2022-09-24</td></tr></tbody></table></div>"
      ],
      "text/plain": [
       "shape: (13815, 19)\n",
       "┌───────────┬───────────┬───────────┬─────────┬─────┬────────────┬────────────┬─────────┬──────────┐\n",
       "│ id        ┆ name      ┆ host_id   ┆ host_na ┆ ... ┆ availabili ┆ number_of_ ┆ license ┆ date     │\n",
       "│ ---       ┆ ---       ┆ ---       ┆ me      ┆     ┆ ty_365     ┆ reviews_lt ┆ ---     ┆ ---      │\n",
       "│ i64       ┆ str       ┆ i64       ┆ ---     ┆     ┆ ---        ┆ m          ┆ str     ┆ date     │\n",
       "│           ┆           ┆           ┆ str     ┆     ┆ i64        ┆ ---        ┆         ┆          │\n",
       "│           ┆           ┆           ┆         ┆     ┆            ┆ i64        ┆         ┆          │\n",
       "╞═══════════╪═══════════╪═══════════╪═════════╪═════╪════════════╪════════════╪═════════╪══════════╡\n",
       "│ 6983      ┆ Copenhage ┆ 16774     ┆ Simon   ┆ ... ┆ 0          ┆ 4          ┆ null    ┆ 2022-09- │\n",
       "│           ┆ n 'N      ┆           ┆         ┆     ┆            ┆            ┆         ┆ 24       │\n",
       "│           ┆ Livin'    ┆           ┆         ┆     ┆            ┆            ┆         ┆          │\n",
       "│ 26057     ┆ Lovely    ┆ 109777    ┆ Kari    ┆ ... ┆ 303        ┆ 8          ┆ null    ┆ 2022-09- │\n",
       "│           ┆ house -   ┆           ┆         ┆     ┆            ┆            ┆         ┆ 24       │\n",
       "│           ┆ most attr ┆           ┆         ┆     ┆            ┆            ┆         ┆          │\n",
       "│           ┆ active    ┆           ┆         ┆     ┆            ┆            ┆         ┆          │\n",
       "│           ┆ a...      ┆           ┆         ┆     ┆            ┆            ┆         ┆          │\n",
       "│ 26473     ┆ City      ┆ 112210    ┆ Julia   ┆ ... ┆ 56         ┆ 7          ┆ null    ┆ 2022-09- │\n",
       "│           ┆ Centre    ┆           ┆         ┆     ┆            ┆            ┆         ┆ 24       │\n",
       "│           ┆ Townhouse ┆           ┆         ┆     ┆            ┆            ┆         ┆          │\n",
       "│           ┆ Sleeps    ┆           ┆         ┆     ┆            ┆            ┆         ┆          │\n",
       "│           ┆ 1-1...    ┆           ┆         ┆     ┆            ┆            ┆         ┆          │\n",
       "│ 29118     ┆ Best      ┆ 125230    ┆ Nana    ┆ ... ┆ 59         ┆ 2          ┆ null    ┆ 2022-09- │\n",
       "│           ┆ Location  ┆           ┆         ┆     ┆            ┆            ┆         ┆ 24       │\n",
       "│           ┆ in Cool   ┆           ┆         ┆     ┆            ┆            ┆         ┆          │\n",
       "│           ┆ Istedgade ┆           ┆         ┆     ┆            ┆            ┆         ┆          │\n",
       "│ ...       ┆ ...       ┆ ...       ┆ ...     ┆ ... ┆ ...        ┆ ...        ┆ ...     ┆ ...      │\n",
       "│ 647809303 ┆ Dejligt   ┆ 4862421   ┆ Kathrin ┆ ... ┆ 0          ┆ 3          ┆ null    ┆ 2022-09- │\n",
       "│ 952891559 ┆ lille hus ┆           ┆ e       ┆     ┆            ┆            ┆         ┆ 24       │\n",
       "│           ┆ med flere ┆           ┆         ┆     ┆            ┆            ┆         ┆          │\n",
       "│           ┆ hygg...   ┆           ┆         ┆     ┆            ┆            ┆         ┆          │\n",
       "│ 650819220 ┆ Lejlighed ┆ 134647873 ┆ Tim     ┆ ... ┆ 0          ┆ 3          ┆ null    ┆ 2022-09- │\n",
       "│ 455514228 ┆ i Storkøb ┆           ┆         ┆     ┆            ┆            ┆         ┆ 24       │\n",
       "│           ┆ enhavn.   ┆           ┆         ┆     ┆            ┆            ┆         ┆          │\n",
       "│           ┆ 13 mi...  ┆           ┆         ┆     ┆            ┆            ┆         ┆          │\n",
       "│ 658612163 ┆ Cosy      ┆ 256903668 ┆ Sam     ┆ ... ┆ 0          ┆ 0          ┆ null    ┆ 2022-09- │\n",
       "│ 688161695 ┆ apartment ┆           ┆         ┆     ┆            ┆            ┆         ┆ 24       │\n",
       "│           ┆ with a    ┆           ┆         ┆     ┆            ┆            ┆         ┆          │\n",
       "│           ┆ great     ┆           ┆         ┆     ┆            ┆            ┆         ┆          │\n",
       "│           ┆ view...   ┆           ┆         ┆     ┆            ┆            ┆         ┆          │\n",
       "│ 648436253 ┆ Big       ┆ 141288846 ┆ Tanja   ┆ ... ┆ 0          ┆ 1          ┆ null    ┆ 2022-09- │\n",
       "│ 362373119 ┆ Bedroom   ┆           ┆         ┆     ┆            ┆            ┆         ┆ 24       │\n",
       "│           ┆ connected ┆           ┆         ┆     ┆            ┆            ┆         ┆          │\n",
       "│           ┆ with a    ┆           ┆         ┆     ┆            ┆            ┆         ┆          │\n",
       "│           ┆ lar...    ┆           ┆         ┆     ┆            ┆            ┆         ┆          │\n",
       "└───────────┴───────────┴───────────┴─────────┴─────┴────────────┴────────────┴─────────┴──────────┘"
      ]
     },
     "execution_count": 17,
     "metadata": {},
     "output_type": "execute_result"
    }
   ],
   "source": [
    "listings"
   ]
  },
  {
   "cell_type": "code",
   "execution_count": 26,
   "id": "becba511-50ac-4503-b158-c13f2ee4e0fb",
   "metadata": {
    "tags": []
   },
   "outputs": [],
   "source": [
    "neighbourhood_df = listings.select(pl.col('neighbourhood'), pl.col('date'), pl.col('id'))"
   ]
  },
  {
   "cell_type": "code",
   "execution_count": 5,
   "id": "2b5a6cf8-d052-4c16-9bb5-d2cdbe641159",
   "metadata": {
    "tags": []
   },
   "outputs": [],
   "source": [
    "engine = sa.create_engine(\"sqlite:///test.db\")"
   ]
  },
  {
   "cell_type": "code",
   "execution_count": 6,
   "id": "2298ec32-029c-4573-b814-5b1080f72147",
   "metadata": {
    "tags": []
   },
   "outputs": [],
   "source": [
    "client = Client()"
   ]
  },
  {
   "cell_type": "code",
   "execution_count": 27,
   "id": "6a1acce2-bf40-43a2-b8fc-81ba45cb0e69",
   "metadata": {
    "tags": []
   },
   "outputs": [],
   "source": [
    "neighbourhood_feature = client.register_feature(\n",
    "    feature_name=\"neighbourhood\",\n",
    "    kind=FeatureKind.sql,\n",
    "    location=\"main.neighbourhood\",\n",
    "    id_column=\"id\",\n",
    "    date_column=\"date\",\n",
    "    auth_key=\"local_sqlite\"\n",
    ")"
   ]
  },
  {
   "cell_type": "code",
   "execution_count": 28,
   "id": "34f415da-0273-4d1f-be74-c3ec406d8923",
   "metadata": {
    "tags": []
   },
   "outputs": [
    {
     "data": {
      "text/plain": [
       "<Feature neighbourhood>"
      ]
     },
     "execution_count": 28,
     "metadata": {},
     "output_type": "execute_result"
    }
   ],
   "source": [
    "client.upload_feature_data(neighbourhood_feature.name, neighbourhood_df.to_pandas())"
   ]
  },
  {
   "cell_type": "code",
   "execution_count": 29,
   "id": "b65c5461-06b7-4d4d-9b23-56a587f876b0",
   "metadata": {
    "tags": []
   },
   "outputs": [
    {
     "data": {
      "text/plain": [
       "[<Feature neighborhood>, <Feature neighbourhood>]"
      ]
     },
     "execution_count": 29,
     "metadata": {},
     "output_type": "execute_result"
    }
   ],
   "source": [
    "client.get_available_features()"
   ]
  },
  {
   "cell_type": "code",
   "execution_count": 30,
   "id": "4a8eb94a-84cc-45f2-aa94-bfd21cdf7629",
   "metadata": {
    "tags": []
   },
   "outputs": [],
   "source": [
    "f = client.get_feature(\"neighbourhood\")"
   ]
  },
  {
   "cell_type": "code",
   "execution_count": 31,
   "id": "85e2355b-ce28-471a-8946-c681ff3804f7",
   "metadata": {
    "tags": []
   },
   "outputs": [
    {
     "data": {
      "text/html": [
       "<div>\n",
       "<style scoped>\n",
       "    .dataframe tbody tr th:only-of-type {\n",
       "        vertical-align: middle;\n",
       "    }\n",
       "\n",
       "    .dataframe tbody tr th {\n",
       "        vertical-align: top;\n",
       "    }\n",
       "\n",
       "    .dataframe thead th {\n",
       "        text-align: right;\n",
       "    }\n",
       "</style>\n",
       "<table border=\"1\" class=\"dataframe\">\n",
       "  <thead>\n",
       "    <tr style=\"text-align: right;\">\n",
       "      <th></th>\n",
       "      <th>id</th>\n",
       "      <th>date</th>\n",
       "      <th>neighbourhood</th>\n",
       "    </tr>\n",
       "  </thead>\n",
       "  <tbody>\n",
       "    <tr>\n",
       "      <th>0</th>\n",
       "      <td>6983</td>\n",
       "      <td>2022-09-24</td>\n",
       "      <td>Nrrebro</td>\n",
       "    </tr>\n",
       "    <tr>\n",
       "      <th>1</th>\n",
       "      <td>26057</td>\n",
       "      <td>2022-09-24</td>\n",
       "      <td>Indre By</td>\n",
       "    </tr>\n",
       "    <tr>\n",
       "      <th>2</th>\n",
       "      <td>26473</td>\n",
       "      <td>2022-09-24</td>\n",
       "      <td>Indre By</td>\n",
       "    </tr>\n",
       "    <tr>\n",
       "      <th>3</th>\n",
       "      <td>29118</td>\n",
       "      <td>2022-09-24</td>\n",
       "      <td>Vesterbro-Kongens Enghave</td>\n",
       "    </tr>\n",
       "    <tr>\n",
       "      <th>4</th>\n",
       "      <td>31094</td>\n",
       "      <td>2022-09-24</td>\n",
       "      <td>Vesterbro-Kongens Enghave</td>\n",
       "    </tr>\n",
       "    <tr>\n",
       "      <th>...</th>\n",
       "      <td>...</td>\n",
       "      <td>...</td>\n",
       "      <td>...</td>\n",
       "    </tr>\n",
       "    <tr>\n",
       "      <th>13810</th>\n",
       "      <td>653494030951422457</td>\n",
       "      <td>2022-09-24</td>\n",
       "      <td>sterbro</td>\n",
       "    </tr>\n",
       "    <tr>\n",
       "      <th>13811</th>\n",
       "      <td>647809303952891559</td>\n",
       "      <td>2022-09-24</td>\n",
       "      <td>Valby</td>\n",
       "    </tr>\n",
       "    <tr>\n",
       "      <th>13812</th>\n",
       "      <td>650819220455514228</td>\n",
       "      <td>2022-09-24</td>\n",
       "      <td>Valby</td>\n",
       "    </tr>\n",
       "    <tr>\n",
       "      <th>13813</th>\n",
       "      <td>658612163688161695</td>\n",
       "      <td>2022-09-24</td>\n",
       "      <td>Brnshj-Husum</td>\n",
       "    </tr>\n",
       "    <tr>\n",
       "      <th>13814</th>\n",
       "      <td>648436253362373119</td>\n",
       "      <td>2022-09-24</td>\n",
       "      <td>Bispebjerg</td>\n",
       "    </tr>\n",
       "  </tbody>\n",
       "</table>\n",
       "<p>13815 rows × 3 columns</p>\n",
       "</div>"
      ],
      "text/plain": [
       "                       id       date              neighbourhood\n",
       "0                    6983 2022-09-24                    Nrrebro\n",
       "1                   26057 2022-09-24                   Indre By\n",
       "2                   26473 2022-09-24                   Indre By\n",
       "3                   29118 2022-09-24  Vesterbro-Kongens Enghave\n",
       "4                   31094 2022-09-24  Vesterbro-Kongens Enghave\n",
       "...                   ...        ...                        ...\n",
       "13810  653494030951422457 2022-09-24                    sterbro\n",
       "13811  647809303952891559 2022-09-24                      Valby\n",
       "13812  650819220455514228 2022-09-24                      Valby\n",
       "13813  658612163688161695 2022-09-24               Brnshj-Husum\n",
       "13814  648436253362373119 2022-09-24                 Bispebjerg\n",
       "\n",
       "[13815 rows x 3 columns]"
      ]
     },
     "execution_count": 31,
     "metadata": {},
     "output_type": "execute_result"
    }
   ],
   "source": [
    "f.to_pandas()"
   ]
  }
 ],
 "metadata": {
  "kernelspec": {
   "display_name": "Python 3 (ipykernel)",
   "language": "python",
   "name": "python3"
  },
  "language_info": {
   "codemirror_mode": {
    "name": "ipython",
    "version": 3
   },
   "file_extension": ".py",
   "mimetype": "text/x-python",
   "name": "python",
   "nbconvert_exporter": "python",
   "pygments_lexer": "ipython3",
   "version": "3.10.10"
  }
 },
 "nbformat": 4,
 "nbformat_minor": 5
}
