{
 "cells": [
  {
   "cell_type": "code",
   "execution_count": 1,
   "id": "34d956e8-6aa9-409b-b49d-697cef58b3e5",
   "metadata": {
    "tags": []
   },
   "outputs": [],
   "source": [
    "%load_ext autoreload\n",
    "%autoreload 2"
   ]
  },
  {
   "cell_type": "code",
   "execution_count": 2,
   "id": "5ff70b38-8773-46f7-8a25-af8e20cb68e7",
   "metadata": {
    "tags": []
   },
   "outputs": [],
   "source": [
    "import polars as pl\n",
    "from feature_store import Client\n",
    "import sqlalchemy as sa"
   ]
  },
  {
   "cell_type": "code",
   "execution_count": 3,
   "id": "2298ec32-029c-4573-b814-5b1080f72147",
   "metadata": {
    "tags": []
   },
   "outputs": [],
   "source": [
    "client = Client()"
   ]
  },
  {
   "cell_type": "code",
   "execution_count": 4,
   "id": "b65c5461-06b7-4d4d-9b23-56a587f876b0",
   "metadata": {
    "tags": []
   },
   "outputs": [
    {
     "data": {
      "text/plain": [
       "['listings.neighbourhood', 'listings.room_type', 'listings.price']"
      ]
     },
     "execution_count": 4,
     "metadata": {},
     "output_type": "execute_result"
    }
   ],
   "source": [
    "client.get_available_features()"
   ]
  },
  {
   "cell_type": "code",
   "execution_count": null,
   "id": "b36272c5-1408-4908-b90e-601596b1aafe",
   "metadata": {
    "tags": []
   },
   "outputs": [],
   "source": [
    "fg = client.register_feature_group(feature_group_name=\"listings\", \n",
    "                                    location=\"local_sqlite::main.listings\", \n",
    "                                    id_column=\"id\",\n",
    "                                    date_column=\"date\",\n",
    "                                    features=[\n",
    "                                      \"neighbourhood\",\n",
    "                                      \"room_type\",\n",
    "                                      \"price\"],\n",
    "                                  description=\"Airbnb Listing for CPH\")"
   ]
  },
  {
   "cell_type": "code",
   "execution_count": null,
   "id": "98e105dd-3f9f-45fd-9105-8004b2fc2939",
   "metadata": {
    "tags": []
   },
   "outputs": [],
   "source": [
    "fg.features"
   ]
  },
  {
   "cell_type": "code",
   "execution_count": 5,
   "id": "d52b0682-2f38-4319-8622-e9bc1a5af76c",
   "metadata": {
    "tags": []
   },
   "outputs": [],
   "source": [
    "df1 = pl.read_csv(\"denmark_hovedstaden_copenhagen_2022-09-24_visualisations_listings.csv\").select(\n",
    "    pl.col(\"id\"),\n",
    "    pl.lit(\"2022-09-24\").alias(\"date\"),\n",
    "    pl.col(\"neighbourhood\"), \n",
    "    pl.col(\"room_type\"), \n",
    "    pl.col('price')\n",
    ")"
   ]
  },
  {
   "cell_type": "code",
   "execution_count": 6,
   "id": "2a11ea5b-a66d-4d8d-9b1e-31272b39beae",
   "metadata": {
    "tags": []
   },
   "outputs": [
    {
     "data": {
      "text/plain": [
       "<feature_store.feature.FeatureGroup at 0x7fc562fa14b0>"
      ]
     },
     "execution_count": 6,
     "metadata": {},
     "output_type": "execute_result"
    }
   ],
   "source": [
    "client.upload_feature_data(\"listings\", df1.to_pandas())"
   ]
  },
  {
   "cell_type": "code",
   "execution_count": 7,
   "id": "b62d5573-cbb8-409f-93a4-b9070bbc0606",
   "metadata": {
    "tags": []
   },
   "outputs": [],
   "source": [
    "data = client.get_features([\"listings.neighbourhood\", \"listings.room_type\"])"
   ]
  },
  {
   "cell_type": "code",
   "execution_count": 8,
   "id": "6c4ca390-a4c0-4060-83fe-82f280dbb0b5",
   "metadata": {
    "tags": []
   },
   "outputs": [
    {
     "data": {
      "text/plain": [
       "Dataset(features=[<Feature neighbourhood>, <Feature room_type>])"
      ]
     },
     "execution_count": 8,
     "metadata": {},
     "output_type": "execute_result"
    }
   ],
   "source": [
    "data"
   ]
  },
  {
   "cell_type": "code",
   "execution_count": 9,
   "id": "9f8de98a-52b8-40d6-bdcb-25655c246035",
   "metadata": {
    "tags": []
   },
   "outputs": [
    {
     "data": {
      "text/plain": [
       "2022-09-24    221040\n",
       "Name: date, dtype: int64"
      ]
     },
     "execution_count": 9,
     "metadata": {},
     "output_type": "execute_result"
    }
   ],
   "source": [
    "data.to_pandas().date.value_counts()"
   ]
  }
 ],
 "metadata": {
  "kernelspec": {
   "display_name": "Python 3 (ipykernel)",
   "language": "python",
   "name": "python3"
  },
  "language_info": {
   "codemirror_mode": {
    "name": "ipython",
    "version": 3
   },
   "file_extension": ".py",
   "mimetype": "text/x-python",
   "name": "python",
   "nbconvert_exporter": "python",
   "pygments_lexer": "ipython3",
   "version": "3.10.10"
  }
 },
 "nbformat": 4,
 "nbformat_minor": 5
}
