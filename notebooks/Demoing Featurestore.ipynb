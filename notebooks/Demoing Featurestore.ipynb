{
 "cells": [
  {
   "cell_type": "code",
   "execution_count": 1,
   "id": "5ff70b38-8773-46f7-8a25-af8e20cb68e7",
   "metadata": {
    "tags": []
   },
   "outputs": [],
   "source": [
    "import polars as pl\n",
    "from feature_store import Client\n",
    "from feature_store.feature import FeatureKind\n",
    "import sqlalchemy as sa"
   ]
  },
  {
   "cell_type": "code",
   "execution_count": null,
   "id": "a1422bb0",
   "metadata": {
    "collapsed": false,
    "jupyter": {
     "outputs_hidden": false
    }
   },
   "outputs": [],
   "source": [
    "# Data found here: https://www.kaggle.com/datasets/kapturovalexander/karpovs-sql-simulator"
   ]
  },
  {
   "cell_type": "code",
   "execution_count": 2,
   "id": "f601f7ab-fd65-4b16-92fc-957729f39a3a",
   "metadata": {
    "tags": []
   },
   "outputs": [],
   "source": [
    "orders_df = pl.read_csv(\"data/orders.csv\")"
   ]
  },
  {
   "cell_type": "code",
   "execution_count": 3,
   "id": "f3b003d5-0aaf-4d76-a3ec-eba550aa4cb7",
   "metadata": {
    "tags": []
   },
   "outputs": [],
   "source": [
    "users_df = pl.read_csv(\"data/users.csv\")"
   ]
  },
  {
   "cell_type": "code",
   "execution_count": 25,
   "id": "21c1ce05-fec5-4644-8091-b004526b8eaf",
   "metadata": {
    "tags": []
   },
   "outputs": [],
   "source": [
    "with pl.StringCache():\n",
    "    users_df = pl.read_csv(\"data/users.csv\").with_columns(\n",
    "        pl.col(\"birth_date\").str.strptime(pl.Date, \"%d/%m/%y\"), \n",
    "        pl.col(\"sex\").cast(pl.Categorical),\n",
    "        pl.lit(\"2022-01-01\").str.strptime(pl.Date, \"%Y-%m-%d\").alias(\"date\")\n",
    "    )\n",
    "\n",
    "    users = pl.concat([\n",
    "        users_df,\n",
    "        users_df.with_columns(\n",
    "            pl.col(\"birth_date\") + pl.duration(days=365),\n",
    "            pl.col(\"sex\"),\n",
    "            pl.col(\"date\") + pl.duration(days=365)\n",
    "        )\n",
    "    ])"
   ]
  },
  {
   "cell_type": "code",
   "execution_count": 4,
   "id": "741d492f-8a74-4ee9-ae64-7b50db1e2b8b",
   "metadata": {},
   "outputs": [],
   "source": [
    "meta = sa.MetaData()"
   ]
  },
  {
   "cell_type": "code",
   "execution_count": 6,
   "id": "2b5a6cf8-d052-4c16-9bb5-d2cdbe641159",
   "metadata": {
    "tags": []
   },
   "outputs": [],
   "source": [
    "engine = sa.create_engine(\"sqlite:///test.db\")"
   ]
  },
  {
   "cell_type": "code",
   "execution_count": 7,
   "id": "c3d60e19-3a6e-4b71-925a-6e89f5f56dfd",
   "metadata": {
    "tags": []
   },
   "outputs": [],
   "source": [
    "meta.create_all(engine)"
   ]
  },
  {
   "cell_type": "code",
   "execution_count": 8,
   "id": "2298ec32-029c-4573-b814-5b1080f72147",
   "metadata": {
    "tags": []
   },
   "outputs": [],
   "source": [
    "client = Client()"
   ]
  },
  {
   "cell_type": "code",
   "execution_count": 9,
   "id": "6a1acce2-bf40-43a2-b8fc-81ba45cb0e69",
   "metadata": {
    "tags": []
   },
   "outputs": [],
   "source": [
    "sex_feature = client.register_feature(\n",
    "    feature_name=\"sex\",\n",
    "    kind=FeatureKind.sql,\n",
    "    location=\"main.users\",\n",
    "    id_column=\"user_id\",\n",
    "    date_column=\"date\",\n",
    "    auth_key=\"local_sqlite\"\n",
    ")"
   ]
  },
  {
   "cell_type": "code",
   "execution_count": 27,
   "id": "34f415da-0273-4d1f-be74-c3ec406d8923",
   "metadata": {
    "tags": []
   },
   "outputs": [
    {
     "data": {
      "text/plain": [
       "<Feature sex>"
      ]
     },
     "execution_count": 27,
     "metadata": {},
     "output_type": "execute_result"
    }
   ],
   "source": [
    "client.upload_feature_data(sex_feature.name, users.to_pandas())"
   ]
  },
  {
   "cell_type": "code",
   "execution_count": 28,
   "id": "b65c5461-06b7-4d4d-9b23-56a587f876b0",
   "metadata": {
    "tags": []
   },
   "outputs": [
    {
     "data": {
      "text/plain": [
       "[<Feature sex>]"
      ]
     },
     "execution_count": 28,
     "metadata": {},
     "output_type": "execute_result"
    }
   ],
   "source": [
    "client.get_available_features()"
   ]
  },
  {
   "cell_type": "code",
   "execution_count": 29,
   "id": "4a8eb94a-84cc-45f2-aa94-bfd21cdf7629",
   "metadata": {
    "tags": []
   },
   "outputs": [],
   "source": [
    "f = client.get_feature(\"sex\")"
   ]
  },
  {
   "cell_type": "code",
   "execution_count": 30,
   "id": "85e2355b-ce28-471a-8946-c681ff3804f7",
   "metadata": {
    "tags": []
   },
   "outputs": [
    {
     "data": {
      "text/html": [
       "<div>\n",
       "<style scoped>\n",
       "    .dataframe tbody tr th:only-of-type {\n",
       "        vertical-align: middle;\n",
       "    }\n",
       "\n",
       "    .dataframe tbody tr th {\n",
       "        vertical-align: top;\n",
       "    }\n",
       "\n",
       "    .dataframe thead th {\n",
       "        text-align: right;\n",
       "    }\n",
       "</style>\n",
       "<table border=\"1\" class=\"dataframe\">\n",
       "  <thead>\n",
       "    <tr style=\"text-align: right;\">\n",
       "      <th></th>\n",
       "      <th>user_id</th>\n",
       "      <th>date</th>\n",
       "      <th>sex</th>\n",
       "    </tr>\n",
       "  </thead>\n",
       "  <tbody>\n",
       "    <tr>\n",
       "      <th>0</th>\n",
       "      <td>10597</td>\n",
       "      <td>2022-01-01</td>\n",
       "      <td>male</td>\n",
       "    </tr>\n",
       "    <tr>\n",
       "      <th>1</th>\n",
       "      <td>4521</td>\n",
       "      <td>2022-01-01</td>\n",
       "      <td>female</td>\n",
       "    </tr>\n",
       "    <tr>\n",
       "      <th>2</th>\n",
       "      <td>5778</td>\n",
       "      <td>2022-01-01</td>\n",
       "      <td>male</td>\n",
       "    </tr>\n",
       "    <tr>\n",
       "      <th>3</th>\n",
       "      <td>8636</td>\n",
       "      <td>2022-01-01</td>\n",
       "      <td>female</td>\n",
       "    </tr>\n",
       "    <tr>\n",
       "      <th>4</th>\n",
       "      <td>15773</td>\n",
       "      <td>2022-01-01</td>\n",
       "      <td>male</td>\n",
       "    </tr>\n",
       "    <tr>\n",
       "      <th>...</th>\n",
       "      <td>...</td>\n",
       "      <td>...</td>\n",
       "      <td>...</td>\n",
       "    </tr>\n",
       "    <tr>\n",
       "      <th>40657</th>\n",
       "      <td>9797</td>\n",
       "      <td>2023-01-01</td>\n",
       "      <td>female</td>\n",
       "    </tr>\n",
       "    <tr>\n",
       "      <th>40658</th>\n",
       "      <td>1373</td>\n",
       "      <td>2023-01-01</td>\n",
       "      <td>male</td>\n",
       "    </tr>\n",
       "    <tr>\n",
       "      <th>40659</th>\n",
       "      <td>8747</td>\n",
       "      <td>2023-01-01</td>\n",
       "      <td>female</td>\n",
       "    </tr>\n",
       "    <tr>\n",
       "      <th>40660</th>\n",
       "      <td>338</td>\n",
       "      <td>2023-01-01</td>\n",
       "      <td>female</td>\n",
       "    </tr>\n",
       "    <tr>\n",
       "      <th>40661</th>\n",
       "      <td>17998</td>\n",
       "      <td>2023-01-01</td>\n",
       "      <td>male</td>\n",
       "    </tr>\n",
       "  </tbody>\n",
       "</table>\n",
       "<p>40662 rows × 3 columns</p>\n",
       "</div>"
      ],
      "text/plain": [
       "       user_id       date     sex\n",
       "0        10597 2022-01-01    male\n",
       "1         4521 2022-01-01  female\n",
       "2         5778 2022-01-01    male\n",
       "3         8636 2022-01-01  female\n",
       "4        15773 2022-01-01    male\n",
       "...        ...        ...     ...\n",
       "40657     9797 2023-01-01  female\n",
       "40658     1373 2023-01-01    male\n",
       "40659     8747 2023-01-01  female\n",
       "40660      338 2023-01-01  female\n",
       "40661    17998 2023-01-01    male\n",
       "\n",
       "[40662 rows x 3 columns]"
      ]
     },
     "execution_count": 30,
     "metadata": {},
     "output_type": "execute_result"
    }
   ],
   "source": [
    "f.to_pandas()"
   ]
  }
 ],
 "metadata": {
  "kernelspec": {
   "display_name": "Python 3 (ipykernel)",
   "language": "python",
   "name": "python3"
  },
  "language_info": {
   "codemirror_mode": {
    "name": "ipython",
    "version": 3
   },
   "file_extension": ".py",
   "mimetype": "text/x-python",
   "name": "python",
   "nbconvert_exporter": "python",
   "pygments_lexer": "ipython3",
   "version": "3.11.1"
  }
 },
 "nbformat": 4,
 "nbformat_minor": 5
}
