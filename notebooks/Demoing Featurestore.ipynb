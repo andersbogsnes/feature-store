{
 "cells": [
  {
   "cell_type": "code",
   "execution_count": 1,
   "id": "34d956e8-6aa9-409b-b49d-697cef58b3e5",
   "metadata": {
    "tags": []
   },
   "outputs": [],
   "source": [
    "%load_ext autoreload\n",
    "%autoreload 2"
   ]
  },
  {
   "cell_type": "code",
   "execution_count": 2,
   "id": "5ff70b38-8773-46f7-8a25-af8e20cb68e7",
   "metadata": {
    "tags": []
   },
   "outputs": [],
   "source": [
    "import polars as pl\n",
    "from feature_store import Client\n",
    "import sqlalchemy as sa"
   ]
  },
  {
   "cell_type": "code",
   "execution_count": 3,
   "id": "2298ec32-029c-4573-b814-5b1080f72147",
   "metadata": {
    "tags": []
   },
   "outputs": [],
   "source": [
    "client = Client()"
   ]
  },
  {
   "cell_type": "code",
   "execution_count": 4,
   "id": "b65c5461-06b7-4d4d-9b23-56a587f876b0",
   "metadata": {
    "tags": []
   },
   "outputs": [
    {
     "data": {
      "text/plain": [
       "[]"
      ]
     },
     "execution_count": 4,
     "metadata": {},
     "output_type": "execute_result"
    }
   ],
   "source": [
    "client.get_available_features()"
   ]
  },
  {
   "cell_type": "code",
   "execution_count": 5,
   "id": "b36272c5-1408-4908-b90e-601596b1aafe",
   "metadata": {
    "tags": []
   },
   "outputs": [],
   "source": [
    "fg = client.register_feature_group(feature_group_name=\"listings\", \n",
    "                                    location=\"local_sqlite::main.listings\", \n",
    "                                    id_column=\"id\",\n",
    "                                    date_column=\"date\",\n",
    "                                    features=[\n",
    "                                      \"neighbourhood\",\n",
    "                                      \"room_type\",\n",
    "                                      \"price\"],\n",
    "                                  description=\"Airbnb Listing for CPH\")"
   ]
  },
  {
   "cell_type": "code",
   "execution_count": 6,
   "id": "98e105dd-3f9f-45fd-9105-8004b2fc2939",
   "metadata": {
    "tags": []
   },
   "outputs": [
    {
     "data": {
      "text/plain": [
       "[<Feature neighbourhood>, <Feature room_type>, <Feature price>]"
      ]
     },
     "execution_count": 6,
     "metadata": {},
     "output_type": "execute_result"
    }
   ],
   "source": [
    "fg.features"
   ]
  },
  {
   "cell_type": "code",
   "execution_count": 12,
   "id": "d52b0682-2f38-4319-8622-e9bc1a5af76c",
   "metadata": {
    "tags": []
   },
   "outputs": [],
   "source": [
    "df1 = pl.read_csv(\"denmark_hovedstaden_copenhagen_2022-09-24_visualisations_listings.csv\").select(\n",
    "    pl.col(\"id\"),\n",
    "    pl.lit(\"2022-09-24\").alias(\"date\"),\n",
    "    pl.col(\"neighbourhood\"), \n",
    "    pl.col(\"room_type\"), \n",
    "    pl.col('price')\n",
    ")"
   ]
  },
  {
   "cell_type": "code",
   "execution_count": 13,
   "id": "46bd98fe-a19d-4354-a320-e48c7704c26d",
   "metadata": {
    "tags": []
   },
   "outputs": [
    {
     "data": {
      "text/html": [
       "<div><style>\n",
       ".dataframe > thead > tr > th,\n",
       ".dataframe > tbody > tr > td {\n",
       "  text-align: right;\n",
       "}\n",
       "</style>\n",
       "<small>shape: (13815, 5)</small><table border=\"1\" class=\"dataframe\"><thead><tr><th>id</th><th>date</th><th>neighbourhood</th><th>room_type</th><th>price</th></tr><tr><td>i64</td><td>str</td><td>str</td><td>str</td><td>i64</td></tr></thead><tbody><tr><td>6983</td><td>&quot;2022-09-24&quot;</td><td>&quot;Nrrebro&quot;</td><td>&quot;Entire home/ap...</td><td>898</td></tr><tr><td>26057</td><td>&quot;2022-09-24&quot;</td><td>&quot;Indre By&quot;</td><td>&quot;Entire home/ap...</td><td>2600</td></tr><tr><td>26473</td><td>&quot;2022-09-24&quot;</td><td>&quot;Indre By&quot;</td><td>&quot;Entire home/ap...</td><td>3250</td></tr><tr><td>29118</td><td>&quot;2022-09-24&quot;</td><td>&quot;Vesterbro-Kong...</td><td>&quot;Entire home/ap...</td><td>725</td></tr><tr><td>31094</td><td>&quot;2022-09-24&quot;</td><td>&quot;Vesterbro-Kong...</td><td>&quot;Entire home/ap...</td><td>1954</td></tr><tr><td>32379</td><td>&quot;2022-09-24&quot;</td><td>&quot;Vesterbro-Kong...</td><td>&quot;Entire home/ap...</td><td>1280</td></tr><tr><td>32841</td><td>&quot;2022-09-24&quot;</td><td>&quot;sterbro&quot;</td><td>&quot;Entire home/ap...</td><td>617</td></tr><tr><td>33680</td><td>&quot;2022-09-24&quot;</td><td>&quot;Vesterbro-Kong...</td><td>&quot;Entire home/ap...</td><td>1000</td></tr><tr><td>37159</td><td>&quot;2022-09-24&quot;</td><td>&quot;Indre By&quot;</td><td>&quot;Entire home/ap...</td><td>2916</td></tr><tr><td>38499</td><td>&quot;2022-09-24&quot;</td><td>&quot;Indre By&quot;</td><td>&quot;Entire home/ap...</td><td>1900</td></tr><tr><td>39055</td><td>&quot;2022-09-24&quot;</td><td>&quot;Amager Vest&quot;</td><td>&quot;Entire home/ap...</td><td>2000</td></tr><tr><td>55465</td><td>&quot;2022-09-24&quot;</td><td>&quot;Frederiksberg&quot;</td><td>&quot;Entire home/ap...</td><td>535</td></tr><tr><td>...</td><td>...</td><td>...</td><td>...</td><td>...</td></tr><tr><td>622488449947902662</td><td>&quot;2022-09-24&quot;</td><td>&quot;Valby&quot;</td><td>&quot;Entire home/ap...</td><td>600</td></tr><tr><td>636945618508851756</td><td>&quot;2022-09-24&quot;</td><td>&quot;Amager st&quot;</td><td>&quot;Entire home/ap...</td><td>650</td></tr><tr><td>638839422729041798</td><td>&quot;2022-09-24&quot;</td><td>&quot;Vanlse&quot;</td><td>&quot;Entire home/ap...</td><td>490</td></tr><tr><td>630779770351807878</td><td>&quot;2022-09-24&quot;</td><td>&quot;Valby&quot;</td><td>&quot;Entire home/ap...</td><td>1000</td></tr><tr><td>632474141549608786</td><td>&quot;2022-09-24&quot;</td><td>&quot;Amager st&quot;</td><td>&quot;Entire home/ap...</td><td>845</td></tr><tr><td>646726550705810749</td><td>&quot;2022-09-24&quot;</td><td>&quot;Brnshj-Husum&quot;</td><td>&quot;Entire home/ap...</td><td>856</td></tr><tr><td>646941499450912133</td><td>&quot;2022-09-24&quot;</td><td>&quot;Bispebjerg&quot;</td><td>&quot;Entire home/ap...</td><td>1050</td></tr><tr><td>653494030951422457</td><td>&quot;2022-09-24&quot;</td><td>&quot;sterbro&quot;</td><td>&quot;Entire home/ap...</td><td>1250</td></tr><tr><td>647809303952891559</td><td>&quot;2022-09-24&quot;</td><td>&quot;Valby&quot;</td><td>&quot;Entire home/ap...</td><td>450</td></tr><tr><td>650819220455514228</td><td>&quot;2022-09-24&quot;</td><td>&quot;Valby&quot;</td><td>&quot;Entire home/ap...</td><td>400</td></tr><tr><td>658612163688161695</td><td>&quot;2022-09-24&quot;</td><td>&quot;Brnshj-Husum&quot;</td><td>&quot;Entire home/ap...</td><td>850</td></tr><tr><td>648436253362373119</td><td>&quot;2022-09-24&quot;</td><td>&quot;Bispebjerg&quot;</td><td>&quot;Private room&quot;</td><td>420</td></tr></tbody></table></div>"
      ],
      "text/plain": [
       "shape: (13815, 5)\n",
       "┌────────────────────┬────────────┬───────────────────────────┬─────────────────┬───────┐\n",
       "│ id                 ┆ date       ┆ neighbourhood             ┆ room_type       ┆ price │\n",
       "│ ---                ┆ ---        ┆ ---                       ┆ ---             ┆ ---   │\n",
       "│ i64                ┆ str        ┆ str                       ┆ str             ┆ i64   │\n",
       "╞════════════════════╪════════════╪═══════════════════════════╪═════════════════╪═══════╡\n",
       "│ 6983               ┆ 2022-09-24 ┆ Nrrebro                   ┆ Entire home/apt ┆ 898   │\n",
       "│ 26057              ┆ 2022-09-24 ┆ Indre By                  ┆ Entire home/apt ┆ 2600  │\n",
       "│ 26473              ┆ 2022-09-24 ┆ Indre By                  ┆ Entire home/apt ┆ 3250  │\n",
       "│ 29118              ┆ 2022-09-24 ┆ Vesterbro-Kongens Enghave ┆ Entire home/apt ┆ 725   │\n",
       "│ ...                ┆ ...        ┆ ...                       ┆ ...             ┆ ...   │\n",
       "│ 647809303952891559 ┆ 2022-09-24 ┆ Valby                     ┆ Entire home/apt ┆ 450   │\n",
       "│ 650819220455514228 ┆ 2022-09-24 ┆ Valby                     ┆ Entire home/apt ┆ 400   │\n",
       "│ 658612163688161695 ┆ 2022-09-24 ┆ Brnshj-Husum              ┆ Entire home/apt ┆ 850   │\n",
       "│ 648436253362373119 ┆ 2022-09-24 ┆ Bispebjerg                ┆ Private room    ┆ 420   │\n",
       "└────────────────────┴────────────┴───────────────────────────┴─────────────────┴───────┘"
      ]
     },
     "execution_count": 13,
     "metadata": {},
     "output_type": "execute_result"
    }
   ],
   "source": [
    "df1"
   ]
  },
  {
   "cell_type": "code",
   "execution_count": 14,
   "id": "2a11ea5b-a66d-4d8d-9b1e-31272b39beae",
   "metadata": {
    "tags": []
   },
   "outputs": [
    {
     "data": {
      "text/plain": [
       "<feature_store.feature.FeatureGroup at 0x7f6659b47f70>"
      ]
     },
     "execution_count": 14,
     "metadata": {},
     "output_type": "execute_result"
    }
   ],
   "source": [
    "client.upload_feature_data(\"listings\", df1.to_pandas())"
   ]
  },
  {
   "cell_type": "code",
   "execution_count": 17,
   "id": "b62d5573-cbb8-409f-93a4-b9070bbc0606",
   "metadata": {
    "tags": []
   },
   "outputs": [
    {
     "ename": "AttributeError",
     "evalue": "listings",
     "output_type": "error",
     "traceback": [
      "\u001b[0;31m---------------------------------------------------------------------------\u001b[0m",
      "\u001b[0;31mKeyError\u001b[0m                                  Traceback (most recent call last)",
      "File \u001b[0;32m~/.pyenv/versions/feature_store/lib/python3.10/site-packages/sqlalchemy/sql/base.py:1565\u001b[0m, in \u001b[0;36mColumnCollection.__getattr__\u001b[0;34m(self, key)\u001b[0m\n\u001b[1;32m   1564\u001b[0m \u001b[38;5;28;01mtry\u001b[39;00m:\n\u001b[0;32m-> 1565\u001b[0m     \u001b[38;5;28;01mreturn\u001b[39;00m \u001b[38;5;28;43mself\u001b[39;49m\u001b[38;5;241;43m.\u001b[39;49m\u001b[43m_index\u001b[49m\u001b[43m[\u001b[49m\u001b[43mkey\u001b[49m\u001b[43m]\u001b[49m[\u001b[38;5;241m1\u001b[39m]\n\u001b[1;32m   1566\u001b[0m \u001b[38;5;28;01mexcept\u001b[39;00m \u001b[38;5;167;01mKeyError\u001b[39;00m \u001b[38;5;28;01mas\u001b[39;00m err:\n",
      "\u001b[0;31mKeyError\u001b[0m: 'listings'",
      "\nThe above exception was the direct cause of the following exception:\n",
      "\u001b[0;31mAttributeError\u001b[0m                            Traceback (most recent call last)",
      "Cell \u001b[0;32mIn[17], line 1\u001b[0m\n\u001b[0;32m----> 1\u001b[0m data \u001b[38;5;241m=\u001b[39m \u001b[43mclient\u001b[49m\u001b[38;5;241;43m.\u001b[39;49m\u001b[43mget_features\u001b[49m\u001b[43m(\u001b[49m\u001b[43m[\u001b[49m\u001b[38;5;124;43m\"\u001b[39;49m\u001b[38;5;124;43mlistings.neighbourhood\u001b[39;49m\u001b[38;5;124;43m\"\u001b[39;49m\u001b[43m,\u001b[49m\u001b[43m \u001b[49m\u001b[38;5;124;43m\"\u001b[39;49m\u001b[38;5;124;43mlistings.room_type\u001b[39;49m\u001b[38;5;124;43m\"\u001b[39;49m\u001b[43m]\u001b[49m\u001b[43m)\u001b[49m\n",
      "File \u001b[0;32m~/projects/feature-store/src/feature_store/client.py:54\u001b[0m, in \u001b[0;36mClient.get_features\u001b[0;34m(self, feature_names)\u001b[0m\n\u001b[1;32m     52\u001b[0m \u001b[38;5;28;01mfor\u001b[39;00m group \u001b[38;5;129;01min\u001b[39;00m feature_groups:\n\u001b[1;32m     53\u001b[0m     store \u001b[38;5;241m=\u001b[39m \u001b[38;5;28mself\u001b[39m\u001b[38;5;241m.\u001b[39mauth\u001b[38;5;241m.\u001b[39mget_store(group\u001b[38;5;241m.\u001b[39mlocation)\n\u001b[0;32m---> 54\u001b[0m     table \u001b[38;5;241m=\u001b[39m \u001b[43mstore\u001b[49m\u001b[38;5;241;43m.\u001b[39;49m\u001b[43mdownload_data\u001b[49m\u001b[43m(\u001b[49m\u001b[43mgroup\u001b[49m\u001b[43m)\u001b[49m\n\u001b[1;32m     55\u001b[0m     \u001b[38;5;28;01mfor\u001b[39;00m feature \u001b[38;5;129;01min\u001b[39;00m group\u001b[38;5;241m.\u001b[39mfeatures:\n\u001b[1;32m     56\u001b[0m         \u001b[38;5;28;01mif\u001b[39;00m feature\u001b[38;5;241m.\u001b[39mname \u001b[38;5;129;01min\u001b[39;00m feature_dict[group\u001b[38;5;241m.\u001b[39mname]:\n",
      "File \u001b[0;32m~/projects/feature-store/src/feature_store/feature_storage/sql.py:38\u001b[0m, in \u001b[0;36mSQLAlchemyFeatureStorage.download_data\u001b[0;34m(self, feature)\u001b[0m\n\u001b[1;32m     36\u001b[0m \u001b[38;5;28;01mdef\u001b[39;00m \u001b[38;5;21mdownload_data\u001b[39m(\u001b[38;5;28mself\u001b[39m, feature: FeatureGroup) \u001b[38;5;241m-\u001b[39m\u001b[38;5;241m>\u001b[39m pa\u001b[38;5;241m.\u001b[39mTable:\n\u001b[1;32m     37\u001b[0m     table \u001b[38;5;241m=\u001b[39m \u001b[38;5;28mself\u001b[39m\u001b[38;5;241m.\u001b[39mget_table(feature\u001b[38;5;241m.\u001b[39mlocation)\n\u001b[0;32m---> 38\u001b[0m     column \u001b[38;5;241m=\u001b[39m \u001b[38;5;28;43mgetattr\u001b[39;49m\u001b[43m(\u001b[49m\u001b[43mtable\u001b[49m\u001b[38;5;241;43m.\u001b[39;49m\u001b[43mc\u001b[49m\u001b[43m,\u001b[49m\u001b[43m \u001b[49m\u001b[43mfeature\u001b[49m\u001b[38;5;241;43m.\u001b[39;49m\u001b[43mname\u001b[49m\u001b[43m)\u001b[49m\n\u001b[1;32m     39\u001b[0m     id_column \u001b[38;5;241m=\u001b[39m \u001b[38;5;28mgetattr\u001b[39m(table\u001b[38;5;241m.\u001b[39mc, feature\u001b[38;5;241m.\u001b[39mid_column)\n\u001b[1;32m     40\u001b[0m     date_column \u001b[38;5;241m=\u001b[39m \u001b[38;5;28mgetattr\u001b[39m(table\u001b[38;5;241m.\u001b[39mc, feature\u001b[38;5;241m.\u001b[39mdatetime_column)\n",
      "File \u001b[0;32m~/.pyenv/versions/feature_store/lib/python3.10/site-packages/sqlalchemy/sql/base.py:1567\u001b[0m, in \u001b[0;36mColumnCollection.__getattr__\u001b[0;34m(self, key)\u001b[0m\n\u001b[1;32m   1565\u001b[0m     \u001b[38;5;28;01mreturn\u001b[39;00m \u001b[38;5;28mself\u001b[39m\u001b[38;5;241m.\u001b[39m_index[key][\u001b[38;5;241m1\u001b[39m]\n\u001b[1;32m   1566\u001b[0m \u001b[38;5;28;01mexcept\u001b[39;00m \u001b[38;5;167;01mKeyError\u001b[39;00m \u001b[38;5;28;01mas\u001b[39;00m err:\n\u001b[0;32m-> 1567\u001b[0m     \u001b[38;5;28;01mraise\u001b[39;00m \u001b[38;5;167;01mAttributeError\u001b[39;00m(key) \u001b[38;5;28;01mfrom\u001b[39;00m \u001b[38;5;21;01merr\u001b[39;00m\n",
      "\u001b[0;31mAttributeError\u001b[0m: listings"
     ]
    }
   ],
   "source": [
    "data = client.get_features([\"listings.neighbourhood\", \"listings.room_type\"])"
   ]
  },
  {
   "cell_type": "code",
   "execution_count": null,
   "id": "6c4ca390-a4c0-4060-83fe-82f280dbb0b5",
   "metadata": {
    "tags": []
   },
   "outputs": [],
   "source": [
    "data"
   ]
  },
  {
   "cell_type": "code",
   "execution_count": null,
   "id": "fccffb81-79f3-4591-ab17-7c0e1cdaab68",
   "metadata": {
    "tags": []
   },
   "outputs": [],
   "source": [
    "data = data + f"
   ]
  },
  {
   "cell_type": "code",
   "execution_count": null,
   "id": "9f8de98a-52b8-40d6-bdcb-25655c246035",
   "metadata": {
    "tags": []
   },
   "outputs": [],
   "source": [
    "data.to_pandas().date.value_counts()"
   ]
  }
 ],
 "metadata": {
  "kernelspec": {
   "display_name": "Python 3 (ipykernel)",
   "language": "python",
   "name": "python3"
  },
  "language_info": {
   "codemirror_mode": {
    "name": "ipython",
    "version": 3
   },
   "file_extension": ".py",
   "mimetype": "text/x-python",
   "name": "python",
   "nbconvert_exporter": "python",
   "pygments_lexer": "ipython3",
   "version": "3.10.10"
  }
 },
 "nbformat": 4,
 "nbformat_minor": 5
}
