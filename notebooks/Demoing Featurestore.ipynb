{
 "cells": [
  {
   "cell_type": "code",
   "execution_count": 9,
   "id": "34d956e8-6aa9-409b-b49d-697cef58b3e5",
   "metadata": {
    "tags": []
   },
   "outputs": [],
   "source": [
    "%load_ext autoreload\n",
    "%autoreload 2"
   ]
  },
  {
   "cell_type": "code",
   "execution_count": 10,
   "id": "5ff70b38-8773-46f7-8a25-af8e20cb68e7",
   "metadata": {
    "tags": []
   },
   "outputs": [],
   "source": [
    "import polars as pl\n",
    "from feature_store import Client\n",
    "from feature_store.feature import FeatureKind\n",
    "import sqlalchemy as sa"
   ]
  },
  {
   "cell_type": "code",
   "execution_count": 11,
   "id": "2298ec32-029c-4573-b814-5b1080f72147",
   "metadata": {
    "tags": []
   },
   "outputs": [],
   "source": [
    "client = Client()"
   ]
  },
  {
   "cell_type": "code",
   "execution_count": 12,
   "id": "b65c5461-06b7-4d4d-9b23-56a587f876b0",
   "metadata": {
    "tags": []
   },
   "outputs": [
    {
     "data": {
      "text/plain": [
       "[<Feature neighbourhood>, <Feature room_type>, <Feature price>]"
      ]
     },
     "execution_count": 12,
     "metadata": {},
     "output_type": "execute_result"
    }
   ],
   "source": [
    "client.get_available_features()"
   ]
  },
  {
   "cell_type": "code",
   "execution_count": 13,
   "id": "4a8eb94a-84cc-45f2-aa94-bfd21cdf7629",
   "metadata": {
    "tags": []
   },
   "outputs": [],
   "source": [
    "f = client.get_feature(\"price\")"
   ]
  },
  {
   "cell_type": "code",
   "execution_count": 14,
   "id": "b36272c5-1408-4908-b90e-601596b1aafe",
   "metadata": {
    "tags": []
   },
   "outputs": [
    {
     "data": {
      "text/plain": [
       "<Feature price>"
      ]
     },
     "execution_count": 14,
     "metadata": {},
     "output_type": "execute_result"
    }
   ],
   "source": [
    "f"
   ]
  },
  {
   "cell_type": "code",
   "execution_count": 15,
   "id": "b62d5573-cbb8-409f-93a4-b9070bbc0606",
   "metadata": {
    "tags": []
   },
   "outputs": [],
   "source": [
    "data = client.get_dataset([\"neighbourhood\", \"room_type\"])"
   ]
  },
  {
   "cell_type": "code",
   "execution_count": 16,
   "id": "6c4ca390-a4c0-4060-83fe-82f280dbb0b5",
   "metadata": {
    "tags": []
   },
   "outputs": [
    {
     "data": {
      "text/plain": [
       "<feature_store.feature.Dataset at 0x7f0a30c35240>"
      ]
     },
     "execution_count": 16,
     "metadata": {},
     "output_type": "execute_result"
    }
   ],
   "source": [
    "data"
   ]
  },
  {
   "cell_type": "code",
   "execution_count": 17,
   "id": "fccffb81-79f3-4591-ab17-7c0e1cdaab68",
   "metadata": {
    "tags": []
   },
   "outputs": [
    {
     "ename": "TypeError",
     "evalue": "unsupported operand type(s) for +: 'Dataset' and 'Feature'",
     "output_type": "error",
     "traceback": [
      "\u001b[0;31m---------------------------------------------------------------------------\u001b[0m",
      "\u001b[0;31mTypeError\u001b[0m                                 Traceback (most recent call last)",
      "Cell \u001b[0;32mIn[17], line 1\u001b[0m\n\u001b[0;32m----> 1\u001b[0m data \u001b[38;5;241m=\u001b[39m \u001b[43mdata\u001b[49m\u001b[43m \u001b[49m\u001b[38;5;241;43m+\u001b[39;49m\u001b[43m \u001b[49m\u001b[43mf\u001b[49m\n",
      "\u001b[0;31mTypeError\u001b[0m: unsupported operand type(s) for +: 'Dataset' and 'Feature'"
     ]
    }
   ],
   "source": [
    "data = data + f"
   ]
  },
  {
   "cell_type": "code",
   "execution_count": 18,
   "id": "9f8de98a-52b8-40d6-bdcb-25655c246035",
   "metadata": {
    "tags": []
   },
   "outputs": [
    {
     "data": {
      "text/plain": [
       "2023-03-31    14759\n",
       "2022-12-29    13820\n",
       "2022-09-24    13815\n",
       "Name: date, dtype: int64"
      ]
     },
     "execution_count": 18,
     "metadata": {},
     "output_type": "execute_result"
    }
   ],
   "source": [
    "data.to_pandas().date.value_counts()"
   ]
  }
 ],
 "metadata": {
  "kernelspec": {
   "display_name": "Python 3 (ipykernel)",
   "language": "python",
   "name": "python3"
  },
  "language_info": {
   "codemirror_mode": {
    "name": "ipython",
    "version": 3
   },
   "file_extension": ".py",
   "mimetype": "text/x-python",
   "name": "python",
   "nbconvert_exporter": "python",
   "pygments_lexer": "ipython3",
   "version": "3.11.1"
  }
 },
 "nbformat": 4,
 "nbformat_minor": 5
}
